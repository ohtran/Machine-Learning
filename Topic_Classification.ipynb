{
  "nbformat": 4,
  "nbformat_minor": 0,
  "metadata": {
    "colab": {
      "provenance": []
    },
    "kernelspec": {
      "name": "python3",
      "display_name": "Python 3"
    },
    "language_info": {
      "name": "python"
    }
  },
  "cells": [
    {
      "cell_type": "markdown",
      "source": [
        "Using the [Reuters newswire](https://keras.io/api/datasets/reuters/) classification dataset, which has text paired with 46 topics as labels, to analyze the text and classify the text into one of the 46 classes. Classes are the defined based on the following list (in the same order):\n",
        ">```\n",
        "['cocoa','grain','veg-oil','earn','acq','wheat','copper',\n",
        "'housing','money-supply','coffee','sugar','trade','reserves',\n",
        "'ship','cotton','carcass','crude','nat-gas','cpi','money-fx',\n",
        "'interest','gnp','meal-feed','alum','oilseed','gold','tin',\n",
        "'strategic-metal','livestock','retail','ipi','iron-steel',\n",
        "'rubber','heat','jobs','lei','bop','zinc','orange',\n",
        "'pet-chem','dlr','gas','silver','wpi','hog','lead']\n",
        "```"
      ],
      "metadata": {
        "id": "1x4UzrqePbk7"
      }
    },
    {
      "cell_type": "markdown",
      "source": [
        "### 1) Processing Data"
      ],
      "metadata": {
        "id": "J3b1q0SdM_vu"
      }
    },
    {
      "cell_type": "code",
      "execution_count": 4,
      "metadata": {
        "colab": {
          "base_uri": "https://localhost:8080/"
        },
        "id": "oSjYzeJjM4GA",
        "outputId": "3af88103-5897-454e-b46f-8839b35fdba8"
      },
      "outputs": [
        {
          "output_type": "stream",
          "name": "stdout",
          "text": [
            "<START> net 65 mln vs 57 mln year shr preferred 14 87 dlrs vs 12 51 dlrs shr common 236 77 dlrs vs 197 40 dlrs net 247\n",
            "mln vs 208 mln note federal home loan mortgage corp fhlmc had 14 998 210 preferred shares outstanding in 1986 vs 14 998\n",
            "379 in 1985 owned by about 3 000 member institutions of the 12 federal home loan banks fhlmc also has 100 000 shares of\n",
            "common owned by the home loan banks reuter 3 \n",
            "Caterory:  3\n",
            "\n",
            "<START> three consecutive days of talks between management and unions aimed at ending the three month old strike at\n",
            "cargill u k ltd's oilseed processing plant at seaforth ended yesterday without resolving the situation although some\n",
            "progress was made a company spokesman said fresh talks have been scheduled for next tuesday he said reuter 3 \n",
            "Caterory:  2\n",
            "\n",
            "<START> the bank of france said it set a money market intervention tender today to inject funds to the market against\n",
            "first category paper money market sources said the surprise announcement might herald a quarter percentage point cut in\n",
            "the central bank intervention rate from the 7 3 4 pct level set march 10 but they added such a cut was relatively\n",
            "unlikely the intervention rate was cut from eight pct on march 10 after being raised from 7 1 4 pct on january 2 to head\n",
            "off speculative pressure against the franc dealers said market fundamentals could justify a further easing but a\n",
            "combination of technical factors and renewed currency uncertainties surrounding the dollar had put short term upside\n",
            "pressure on interest rates in recent sessions call money rose yesterday to 7 7 8 eight pct from 7 3 4 7 8 pct today it\n",
            "was first indicated at 8 1 8 1 4 before easing on news of the tender to 7 13 16 7 8 pct technical factors making for a\n",
            "slight shortage of liquidity in the market included the settlement yesterday of the latest monthly treasury tap stock\n",
            "tender on march 5 market sources said reuter 3 \n",
            "Caterory:  19\n",
            "\n",
            "<START> a new international natural rubber agreement inra will be formally adopted tomorrow chairman of the negotiating\n",
            "conference manaspas xuto of thailand said the successful negotiation of the new agreement represents a significant step\n",
            "forward in international economic cooperation he told a news conference the new inra is to replace the current one which\n",
            "expires in october delegates at the renegotiation conference held under the auspices of the u n conference on trade and\n",
            "development unctad reached agreement over the central elements of a new accord last weekend xuto said the new inra\n",
            "retains the reference price of 201 66 malaysian singapore cents per kilo and indicative prices set in the present pact\n",
            "price levels will continue to be expressed in the joint malaysian singapore currency he added the new agreement also\n",
            "maintains the basic structure of price ranges the may sell and may buy points at plus and minus 15 pct of the reference\n",
            "price as well as the must sell and must buy zones at plus and minus 20 pct of it xuto said the new pact maintains the\n",
            "same objectives that were set in the present accord the most important of these are to stabilise prices and to achieve a\n",
            "balanced growth between demand and supply he said the buffer stock remains the sole instrument of market intervention\n",
            "for price stabilisation and its maximum capacity is unchanged at 550 000 tonnes xuto added at this month's session which\n",
            "was the fourth attempt in two years to negotiate a new inra the main issue to be resolved concerned the mechanism for\n",
            "adjusting the reference price it was agreed to conduct reviews of the reference price every 15 months instead of the\n",
            "current 18 month intervals the extent of the adjustment was also modified under the present agreement if the daily\n",
            "market indicator price has been above the upper intervention may sell price currently 231 malaysian singapore cents or\n",
            "below the lower intervention price may buy price 171 cents at present for six months the reference price is then revised\n",
            "by five pct or whatever amount the international natural rubber council decides under the new pact the adjustment under\n",
            "these circumstances will be five pct unless the council decides on a higher adjustment similarly when buffer stock\n",
            "purchases or sales amount to 300 000 tonnes there would be an automatic adjustment of three pct under the new accord\n",
            "unless the council decides on a higher percentage throughout the talks which began on march 9 producers had strongly\n",
            "opposed a consumer proposal to lower the reference price and the lower indicative price or floor price of 150 cents in\n",
            "the present pact if the buffer stock currently 360 000 tonnes reached 450 000 tonnes the proposal initiated by the u s\n",
            "was withdrawn last friday setting the stage for compromise at the weekend since then negotiators have worked on the\n",
            "finer details of the new pact on the question of conditions for entry into force of the new inra xuto said it was\n",
            "tentatively agreed that governments accounting for 75 pct of world exports and 75 pct of world imports approved or\n",
            "ratified the new agreement before it became operational the present agreement had a figure of 80 pct reuter 3 \n",
            "Caterory:  32\n",
            "\n",
            "<START> ncr corp is very optimistic that it will post record revenues and profits for 1987 charles e exley jr chairman\n",
            "and president said much of our considerable optimism about the future is based on the strength of a continuing flow of\n",
            "new products exley told a meeting of securities analysts our current position is the strongest in modern ncr history\n",
            "with new generation offerings deliverable in every major category this year for 1986 ncr's earnings rose nine pct to 3\n",
            "42 dlrs a share on sales that increased 13 pct to 4 9 billion dlrs during the balance of 1987 exley said ncr will pay\n",
            "close attention to increasing its penetration of major accounts expanding its third party distribution channels and\n",
            "continuing its introduction of new products in 1986 new products introduced within the proceding 36 months accounted for\n",
            "more than 65 pct of our major equipment order activity he said at the end of two months he added i can say we are off to\n",
            "a good start for 1987 reuter 3 \n",
            "Caterory:  3\n",
            "\n",
            "ds length:  11174\n"
          ]
        }
      ],
      "source": [
        "# Load data\n",
        "\n",
        "### YOUR CODE HERE ###\n",
        "import numpy as np\n",
        "import pandas as pd\n",
        "import matplotlib.pyplot as plt\n",
        "import seaborn as sns\n",
        "import tensorflow as tf\n",
        "from sklearn.metrics import accuracy_score, precision_score, recall_score\n",
        "from sklearn.model_selection import train_test_split\n",
        "from tensorflow.keras import layers, losses\n",
        "from tensorflow.keras.models import Model\n",
        "import tensorflow as tf\n",
        "import textwrap\n",
        "from tensorflow.keras.preprocessing.sequence import pad_sequences\n",
        "from tensorflow.keras.datasets import reuters \n",
        "from tensorflow.keras.layers import Embedding, Dense, Dropout, Input, LSTM, Bidirectional\n",
        "from tensorflow.keras.losses import CategoricalCrossentropy, SparseCategoricalCrossentropy\n",
        "from tensorflow.keras.optimizers import RMSprop\n",
        "from tensorflow import keras\n",
        "from sklearn.metrics import r2_score\n",
        "from keras.utils import np_utils\n",
        "\n",
        "max_sequence_len = 800\n",
        "\n",
        "ds, _ = reuters.load_data(\n",
        "    maxlen=max_sequence_len,\n",
        "    test_split=0,\n",
        "    seed=42,\n",
        ")\n",
        "\n",
        "# Clean and pre-process the data\n",
        "word_dict = tf.keras.datasets.reuters.get_word_index()\n",
        "word_dict = {k:(v+3) for k,v in word_dict.items()}\n",
        "word_dict[\"<PAD>\"] = 0\n",
        "word_dict[\"<START>\"] = 1\n",
        "word_dict[\"<UNK>\"] = 2\n",
        "word_dict[\"<UNUSED>\"] = 3\n",
        "# turn training data into text\n",
        "inverse_word_dict = {value:key for key,value in word_dict.items()}\n",
        "vocab_size = len(word_dict.keys())\n",
        "\n",
        "# encode a paragraph\n",
        "def encode_review(review, word_dict, maxlen):\n",
        "  encoded_review = []\n",
        "  for raw_word in review.split(' '):\n",
        "    word = raw_word.strip().strip(string.punctuation).lower()\n",
        "    if word == '' or word == '\\n':\n",
        "      continue\n",
        "    try:\n",
        "      encoded_review.append(word_dict[word])\n",
        "    except KeyError as e:\n",
        "      # raise KeyError(f'{e} not in word dictionary, review not encoded.')\n",
        "      continue\n",
        "  return pad_sequences(np.array(encoded_review).reshape(1,-1), maxlen=maxlen)\n",
        "\n",
        "# decode a paragraph\n",
        "def decode_review(encoded_review, inverse_word_dict):\n",
        "  sentence = []\n",
        "  for encoded_word in encoded_review:\n",
        "    if encoded_word == 0:\n",
        "      continue\n",
        "    sentence.append(inverse_word_dict[encoded_word])\n",
        "  w = textwrap.TextWrapper(width=120,break_long_words=False,replace_whitespace=False)\n",
        "  return '\\n'.join(w.wrap(' '.join(sentence)))\n",
        "\n",
        "\n",
        "# Print sample data\n",
        "for i in range(5):\n",
        "  print(decode_review(ds[0][i], inverse_word_dict), \"\\nCaterory: \", ds[1][i], end=\"\\n\\n\")\n",
        "  \n",
        "print(\"ds length: \", len(ds[0]))"
      ]
    },
    {
      "cell_type": "markdown",
      "source": [
        "### 2) Data Partitioning"
      ],
      "metadata": {
        "id": "iBhKdz7rNXOy"
      }
    },
    {
      "cell_type": "code",
      "source": [
        "# split data into training and test sets. \n",
        "# 80% for training and 20% for test\n",
        "X_train, X_test, y_train, y_test = train_test_split(ds[0], ds[1], test_size=0.20, random_state=42, shuffle=False)\n",
        "X_train = pad_sequences(X_train, maxlen=max_sequence_len)\n",
        "X_test = pad_sequences(X_test, maxlen=max_sequence_len)\n",
        "y_train = np_utils.to_categorical(y_train, 46)\n",
        "y_test = np_utils.to_categorical(y_test, 46)"
      ],
      "metadata": {
        "id": "ES0RkgmxN16S"
      },
      "execution_count": 5,
      "outputs": []
    },
    {
      "cell_type": "markdown",
      "source": [
        "### 3) RNN Model"
      ],
      "metadata": {
        "id": "SW-GF0uEOD81"
      }
    },
    {
      "cell_type": "code",
      "source": [
        "from tensorflow.keras.layers import GRU \n",
        "from tensorflow.keras.optimizers import Adam\n",
        "\n",
        "input_layer = Input(shape=(max_sequence_len))\n",
        "reuters_model = keras.Sequential()\n",
        "reuters_model.add(Embedding(vocab_size, 128))\n",
        "reuters_model.add(Bidirectional(LSTM (20)))\n",
        "reuters_model.add(Dropout(0.3))\n",
        "reuters_model.add(Dense(46, activation='softmax'))\n",
        "\n",
        "loss = CategoricalCrossentropy()\n",
        "\n",
        "opt = RMSprop(learning_rate=0.01)\n",
        "\n",
        "metrics = 'accuracy'\n",
        "\n",
        "reuters_model.compile(loss=loss,\n",
        "              optimizer=opt,\n",
        "              metrics=metrics)\n",
        "\n",
        "reuters_model.summary()\n",
        "\n"
      ],
      "metadata": {
        "colab": {
          "base_uri": "https://localhost:8080/"
        },
        "id": "Xr7vtZkqON25",
        "outputId": "4d1885a1-46e7-4071-8710-a7bab1d6cdd7"
      },
      "execution_count": 8,
      "outputs": [
        {
          "output_type": "stream",
          "name": "stdout",
          "text": [
            "Model: \"sequential_1\"\n",
            "_________________________________________________________________\n",
            " Layer (type)                Output Shape              Param #   \n",
            "=================================================================\n",
            " embedding_1 (Embedding)     (None, None, 128)         3965824   \n",
            "                                                                 \n",
            " bidirectional_1 (Bidirectio  (None, 40)               23840     \n",
            " nal)                                                            \n",
            "                                                                 \n",
            " dropout_2 (Dropout)         (None, 40)                0         \n",
            "                                                                 \n",
            " dense_2 (Dense)             (None, 46)                1886      \n",
            "                                                                 \n",
            "=================================================================\n",
            "Total params: 3,991,550\n",
            "Trainable params: 3,991,550\n",
            "Non-trainable params: 0\n",
            "_________________________________________________________________\n"
          ]
        }
      ]
    },
    {
      "cell_type": "code",
      "source": [
        "batchsize = 30\n",
        "epochs =  20\n",
        "\n",
        "# Fit model\n",
        "history = reuters_model.fit(X_train, y_train, batch_size=batchsize, epochs=epochs, validation_split=0.2, shuffle=True)"
      ],
      "metadata": {
        "colab": {
          "base_uri": "https://localhost:8080/"
        },
        "id": "TpDPaujZOckH",
        "outputId": "8d766df8-8ed1-49d9-c831-47d2dbeeb407"
      },
      "execution_count": 9,
      "outputs": [
        {
          "output_type": "stream",
          "name": "stdout",
          "text": [
            "Epoch 1/20\n",
            "239/239 [==============================] - 167s 682ms/step - loss: 1.9614 - accuracy: 0.5138 - val_loss: 1.7896 - val_accuracy: 0.5912\n",
            "Epoch 2/20\n",
            "239/239 [==============================] - 171s 717ms/step - loss: 1.4174 - accuracy: 0.6637 - val_loss: 1.2778 - val_accuracy: 0.6868\n",
            "Epoch 3/20\n",
            "239/239 [==============================] - 171s 715ms/step - loss: 1.1312 - accuracy: 0.7311 - val_loss: 1.1986 - val_accuracy: 0.7153\n",
            "Epoch 4/20\n",
            "239/239 [==============================] - 172s 721ms/step - loss: 0.9511 - accuracy: 0.7726 - val_loss: 1.1225 - val_accuracy: 0.7472\n",
            "Epoch 5/20\n",
            "239/239 [==============================] - 173s 725ms/step - loss: 0.8008 - accuracy: 0.8115 - val_loss: 1.1195 - val_accuracy: 0.7500\n",
            "Epoch 6/20\n",
            "239/239 [==============================] - 174s 726ms/step - loss: 0.6813 - accuracy: 0.8416 - val_loss: 1.0880 - val_accuracy: 0.7617\n",
            "Epoch 7/20\n",
            "239/239 [==============================] - 173s 723ms/step - loss: 0.5877 - accuracy: 0.8690 - val_loss: 1.0746 - val_accuracy: 0.7573\n",
            "Epoch 8/20\n",
            "239/239 [==============================] - 175s 732ms/step - loss: 0.5340 - accuracy: 0.8796 - val_loss: 1.1311 - val_accuracy: 0.7589\n",
            "Epoch 9/20\n",
            "239/239 [==============================] - 165s 690ms/step - loss: 0.4758 - accuracy: 0.8939 - val_loss: 1.1635 - val_accuracy: 0.7494\n",
            "Epoch 10/20\n",
            "239/239 [==============================] - 162s 677ms/step - loss: 0.4337 - accuracy: 0.9007 - val_loss: 1.1232 - val_accuracy: 0.7629\n",
            "Epoch 11/20\n",
            "239/239 [==============================] - 162s 676ms/step - loss: 0.4065 - accuracy: 0.9104 - val_loss: 1.1346 - val_accuracy: 0.7511\n",
            "Epoch 12/20\n",
            "239/239 [==============================] - 162s 680ms/step - loss: 0.3795 - accuracy: 0.9144 - val_loss: 1.1697 - val_accuracy: 0.7466\n",
            "Epoch 13/20\n",
            "239/239 [==============================] - 161s 672ms/step - loss: 0.3577 - accuracy: 0.9200 - val_loss: 1.1861 - val_accuracy: 0.7450\n",
            "Epoch 14/20\n",
            "239/239 [==============================] - 161s 675ms/step - loss: 0.3262 - accuracy: 0.9260 - val_loss: 1.2123 - val_accuracy: 0.7578\n",
            "Epoch 15/20\n",
            "239/239 [==============================] - 161s 674ms/step - loss: 0.3129 - accuracy: 0.9292 - val_loss: 1.1742 - val_accuracy: 0.7506\n",
            "Epoch 16/20\n",
            "239/239 [==============================] - 161s 675ms/step - loss: 0.3035 - accuracy: 0.9297 - val_loss: 1.1949 - val_accuracy: 0.7545\n",
            "Epoch 17/20\n",
            "239/239 [==============================] - 160s 671ms/step - loss: 0.2866 - accuracy: 0.9348 - val_loss: 1.1962 - val_accuracy: 0.7567\n",
            "Epoch 18/20\n",
            "239/239 [==============================] - 162s 680ms/step - loss: 0.2747 - accuracy: 0.9387 - val_loss: 1.1976 - val_accuracy: 0.7584\n",
            "Epoch 19/20\n",
            "239/239 [==============================] - 163s 682ms/step - loss: 0.2651 - accuracy: 0.9408 - val_loss: 1.2036 - val_accuracy: 0.7640\n",
            "Epoch 20/20\n",
            "239/239 [==============================] - 161s 674ms/step - loss: 0.2628 - accuracy: 0.9401 - val_loss: 1.1899 - val_accuracy: 0.7522\n"
          ]
        }
      ]
    },
    {
      "cell_type": "code",
      "source": [
        "# graph loss and accuracy \n",
        "def plot_losses(hist):\n",
        "    plt.plot(hist.history['loss'])\n",
        "    plt.plot(hist.history['val_loss'])\n",
        "    plt.title('Model Loss')\n",
        "    plt.ylabel('Loss')\n",
        "    plt.xlabel('Epoch')\n",
        "    plt.legend(['Train', 'Val'])\n",
        "    plt.show()\n",
        "def plot_accuracies(hist):\n",
        "    plt.plot(hist.history['accuracy'])\n",
        "    plt.plot(hist.history['val_accuracy'])\n",
        "    plt.title('Model Accuracy')\n",
        "    plt.ylabel('Accuracy')\n",
        "    plt.xlabel('Epoch')\n",
        "    plt.legend(['Train', 'Val'])\n",
        "    plt.show()\n",
        "\n",
        "plot_losses(history)\n",
        "plot_accuracies(history)"
      ],
      "metadata": {
        "colab": {
          "base_uri": "https://localhost:8080/",
          "height": 573
        },
        "id": "G8ie_mJ6OeqF",
        "outputId": "92dc9862-0759-47cd-d244-b83caae87e7d"
      },
      "execution_count": 10,
      "outputs": [
        {
          "output_type": "display_data",
          "data": {
            "text/plain": [
              "<Figure size 432x288 with 1 Axes>"
            ],
            "image/png": "[encoded data removed]"
          },
          "metadata": {
            "needs_background": "light"
          }
        },
        {
          "output_type": "display_data",
          "data": {
            "text/plain": [
              "<Figure size 432x288 with 1 Axes>"
            ],
            "image/png": "[encoded data removed]"
          },
          "metadata": {
            "needs_background": "light"
          }
        }
      ]
    },
    {
      "cell_type": "markdown",
      "source": [
        "### 4) Look at the Predictions"
      ],
      "metadata": {
        "id": "sa9jjqBcOlwD"
      }
    },
    {
      "cell_type": "code",
      "source": [
        "from nltk import FreqDist\n",
        "loss_and_metrics = reuters_model.evaluate(X_test, y_test, verbose=2)\n",
        "\n",
        "pred = reuters_model.predict(X_test)\n",
        "\n",
        "pred = np.argmax(pred, axis = 1)\n",
        "label = np.argmax(y_test,axis = 1)\n",
        "\n",
        "freq = FreqDist(label)\n",
        "all_fdist = dict(freq)\n",
        "\n",
        "count = [0]*46\n",
        "for i in range(len(pred)):\n",
        "  if pred[i] == label[i]:\n",
        "    count[label[i]] +=1\n",
        "\n",
        "prob = [0]*46\n",
        "dist = [0] *46\n",
        "for i in range(46):\n",
        "  dist[i] = all_fdist[i]\n",
        "\n",
        "for i in range(46):\n",
        "  prob[i] = count[i]/dist[i]\n",
        "\n",
        "x = range(46)\n",
        "print(\"Test Loss\", loss_and_metrics[0])\n",
        "print(\"Test Accuracy\", loss_and_metrics[1])\n",
        "\n",
        "plt.scatter(x, prob)\n",
        "plt.title('accuracy for 46 different classes')\n",
        "plt.ylabel('Accuracy')\n",
        "plt.xlabel('classes')\n",
        "\n",
        "for i in range(46):\n",
        "  print(i+1, \": \", prob[i])"
      ],
      "metadata": {
        "colab": {
          "base_uri": "https://localhost:8080/",
          "height": 1000
        },
        "id": "5_yaE94_OpQh",
        "outputId": "a9500c14-edb8-4f8c-a2c9-0e315338a58c"
      },
      "execution_count": 11,
      "outputs": [
        {
          "output_type": "stream",
          "name": "stdout",
          "text": [
            "70/70 - 8s - loss: 1.2622 - accuracy: 0.7575 - 8s/epoch - 115ms/step\n",
            "70/70 [==============================] - 10s 125ms/step\n",
            "Test Loss 1.262171983718872\n",
            "Test Accuracy 0.7574943900108337\n",
            "1 :  0.5\n",
            "2 :  0.8035714285714286\n",
            "3 :  0.5294117647058824\n",
            "4 :  0.9338422391857506\n",
            "5 :  0.8181818181818182\n",
            "6 :  0.0\n",
            "7 :  0.875\n",
            "8 :  0.6666666666666666\n",
            "9 :  0.6\n",
            "10 :  0.52\n",
            "11 :  0.7241379310344828\n",
            "12 :  0.7319587628865979\n",
            "13 :  0.42857142857142855\n",
            "14 :  0.3\n",
            "15 :  0.0\n",
            "16 :  0.5\n",
            "17 :  0.6326530612244898\n",
            "18 :  1.0\n",
            "19 :  0.5\n",
            "20 :  0.6014492753623188\n",
            "21 :  0.581081081081081\n",
            "22 :  0.5862068965517241\n",
            "23 :  0.0\n",
            "24 :  0.2\n",
            "25 :  0.5882352941176471\n",
            "26 :  0.5909090909090909\n",
            "27 :  0.6666666666666666\n",
            "28 :  0.0\n",
            "29 :  0.5\n",
            "30 :  0.4\n",
            "31 :  0.6923076923076923\n",
            "32 :  0.5714285714285714\n",
            "33 :  0.5714285714285714\n",
            "34 :  0.4\n",
            "35 :  0.3333333333333333\n",
            "36 :  0.0\n",
            "37 :  0.23529411764705882\n",
            "38 :  0.0\n",
            "39 :  0.2\n",
            "40 :  0.16666666666666666\n",
            "41 :  0.16666666666666666\n",
            "42 :  0.2857142857142857\n",
            "43 :  0.0\n",
            "44 :  0.75\n",
            "45 :  0.5\n",
            "46 :  0.5\n"
          ]
        },
        {
          "output_type": "display_data",
          "data": {
            "text/plain": [
              "<Figure size 432x288 with 1 Axes>"
            ],
            "image/png": "[encoded data removed]"
          },
          "metadata": {
            "needs_background": "light"
          }
        }
      ]
    }
  ]
}